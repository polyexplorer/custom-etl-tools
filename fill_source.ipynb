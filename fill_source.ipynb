{
 "cells": [
  {
   "cell_type": "code",
   "execution_count": 6,
   "metadata": {},
   "outputs": [
    {
     "name": "stdout",
     "output_type": "stream",
     "text": [
      "psycopg2-binary==2.9.6\n"
     ]
    }
   ],
   "source": [
    "# ! pip install -r requirements.txt\n",
    "! pip freeze | grep psycopg"
   ]
  },
  {
   "cell_type": "code",
   "execution_count": 17,
   "metadata": {},
   "outputs": [],
   "source": [
    "import sqlalchemy"
   ]
  },
  {
   "attachments": {},
   "cell_type": "markdown",
   "metadata": {},
   "source": []
  },
  {
   "cell_type": "code",
   "execution_count": 23,
   "metadata": {},
   "outputs": [
    {
     "name": "stdout",
     "output_type": "stream",
     "text": [
      "Adding Data...\n",
      "Create Table Query: SQL('CREATE TABLE IF NOT EXISTS dummy_table_2 (\\n    id SERIAL PRIMARY KEY,\\n    name varchar(255),\\n\\tage integer,\\n\\tgender varchar(255)\\n);\\n')\n",
      "None\n",
      "Creating Statements...\n",
      "Created, Inserting...\n",
      "Inserted, closing connection...\n",
      "Done.\n",
      "Added 100 rows in  25.335041761398315 seconds.\n"
     ]
    }
   ],
   "source": [
    "! python3 db/random_generator.py"
   ]
  },
  {
   "cell_type": "code",
   "execution_count": null,
   "metadata": {},
   "outputs": [],
   "source": []
  },
  {
   "cell_type": "code",
   "execution_count": 1,
   "metadata": {},
   "outputs": [],
   "source": [
    "from db.source.psql_source import get_postgres_datatype"
   ]
  },
  {
   "cell_type": "code",
   "execution_count": 2,
   "metadata": {},
   "outputs": [
    {
     "data": {
      "text/plain": [
       "'text'"
      ]
     },
     "execution_count": 2,
     "metadata": {},
     "output_type": "execute_result"
    }
   ],
   "source": []
  },
  {
   "cell_type": "code",
   "execution_count": null,
   "metadata": {},
   "outputs": [],
   "source": []
  },
  {
   "cell_type": "code",
   "execution_count": 16,
   "metadata": {},
   "outputs": [
    {
     "name": "stdout",
     "output_type": "stream",
     "text": [
      "Collecting faker\n",
      "  Downloading Faker-18.11.1-py3-none-any.whl (1.7 MB)\n",
      "\u001b[K     |████████████████████████████████| 1.7 MB 1.1 MB/s eta 0:00:01\n",
      "\u001b[?25hRequirement already satisfied: python-dateutil>=2.4 in /Users/atharva/de/venv/lib/python3.9/site-packages (from faker) (2.8.2)\n",
      "Requirement already satisfied: six>=1.5 in /Users/atharva/de/venv/lib/python3.9/site-packages (from python-dateutil>=2.4->faker) (1.16.0)\n",
      "Installing collected packages: faker\n",
      "Successfully installed faker-18.11.1\n",
      "\u001b[33mWARNING: You are using pip version 21.2.4; however, version 23.1.2 is available.\n",
      "You should consider upgrading via the '/Users/atharva/de/venv/bin/python3 -m pip install --upgrade pip' command.\u001b[0m\n"
     ]
    }
   ],
   "source": [
    "! pip install faker"
   ]
  },
  {
   "cell_type": "code",
   "execution_count": 17,
   "metadata": {},
   "outputs": [],
   "source": [
    "# ! pip freeze "
   ]
  },
  {
   "cell_type": "code",
   "execution_count": 12,
   "metadata": {},
   "outputs": [
    {
     "name": "stdout",
     "output_type": "stream",
     "text": [
      "Collecting pg8000\n",
      "  Downloading pg8000-1.29.8-py3-none-any.whl (53 kB)\n",
      "\u001b[K     |████████████████████████████████| 53 kB 865 kB/s eta 0:00:011\n",
      "\u001b[?25hRequirement already satisfied: python-dateutil>=2.8.2 in /Users/atharva/de/venv/lib/python3.9/site-packages (from pg8000) (2.8.2)\n",
      "Collecting scramp>=1.4.3\n",
      "  Downloading scramp-1.4.4-py3-none-any.whl (13 kB)\n",
      "Requirement already satisfied: six>=1.5 in /Users/atharva/de/venv/lib/python3.9/site-packages (from python-dateutil>=2.8.2->pg8000) (1.16.0)\n",
      "Collecting asn1crypto>=1.5.1\n",
      "  Downloading asn1crypto-1.5.1-py2.py3-none-any.whl (105 kB)\n",
      "\u001b[K     |████████████████████████████████| 105 kB 1.9 MB/s eta 0:00:01\n",
      "\u001b[?25hInstalling collected packages: asn1crypto, scramp, pg8000\n",
      "Successfully installed asn1crypto-1.5.1 pg8000-1.29.8 scramp-1.4.4\n",
      "\u001b[33mWARNING: You are using pip version 21.2.4; however, version 23.1.2 is available.\n",
      "You should consider upgrading via the '/Users/atharva/de/venv/bin/python3 -m pip install --upgrade pip' command.\u001b[0m\n"
     ]
    }
   ],
   "source": []
  },
  {
   "cell_type": "code",
   "execution_count": 2,
   "metadata": {},
   "outputs": [],
   "source": [
    "import os\n",
    "import ssl\n",
    "from dotenv import find_dotenv, load_dotenv\n",
    "\n",
    "dotenv_path = find_dotenv()\n",
    "load_dotenv(dotenv_path)\n",
    "\n",
    "import sqlalchemy\n",
    "from sqlalchemy import create_engine\n",
    "\n",
    "\n",
    "\n",
    "\n",
    "def connect_tcp_socket() -> sqlalchemy.engine.base.Engine:\n",
    "    \"\"\"Initializes a TCP connection pool for a Cloud SQL instance of Postgres.\"\"\"\n",
    "    db_host = os.environ.get(\"SOURCE_HOST\")\n",
    "    db_user = os.environ.get(\"SOURCE_USER\")  # e.g. 'my-db-user'\n",
    "    db_pass = os.environ.get(\"SOURCE_PASS\")  # e.g. 'my-db-password'\n",
    "    db_name = os.environ.get(\"SOURCE_DB\")  # e.g. 'my-database'\n",
    "    db_port = os.environ.get(\"SOURCE_PORT\")  # e.g. 5432\n",
    "\n",
    "    pool = sqlalchemy.create_engine(\n",
    "        # Equivalent URL:\n",
    "        # postgresql+pg8000://<db_user>:<db_pass>@<db_host>:<db_port>/<db_name>\n",
    "        sqlalchemy.engine.url.URL.create(\n",
    "            drivername=\"postgresql+pg8000\",\n",
    "            username=db_user,\n",
    "            password=db_pass,\n",
    "            host=db_host,\n",
    "            port=db_port,\n",
    "            database=db_name,\n",
    "        ),\n",
    "        # ...\n",
    "    )\n",
    "    return pool\n"
   ]
  },
  {
   "cell_type": "code",
   "execution_count": 15,
   "metadata": {},
   "outputs": [],
   "source": [
    "engine = connect_tcp_socket()"
   ]
  },
  {
   "cell_type": "code",
   "execution_count": 14,
   "metadata": {},
   "outputs": [],
   "source": [
    "from sqlalchemy import create_engine, Column, Integer, String\n",
    "from sqlalchemy.orm import sessionmaker, declarative_base\n",
    "from faker import Faker\n",
    "import random"
   ]
  },
  {
   "cell_type": "code",
   "execution_count": 15,
   "metadata": {},
   "outputs": [],
   "source": [
    "Base = declarative_base()\n",
    "\n",
    "class DummyTable(Base):\n",
    "    __tablename__ = 'dummy_table'\n",
    "    id = Column(Integer, primary_key=True)\n",
    "    name = Column(String)\n",
    "    age = Column(Integer)\n",
    "    gender = Column(String)"
   ]
  },
  {
   "cell_type": "code",
   "execution_count": 17,
   "metadata": {},
   "outputs": [],
   "source": [
    "engine = connect_tcp_socket()\n",
    "Base.metadata.create_all(engine)"
   ]
  },
  {
   "cell_type": "code",
   "execution_count": 18,
   "metadata": {},
   "outputs": [],
   "source": [
    "import psycopg2\n",
    "from faker import Faker\n",
    "import random\n",
    "import os\n",
    "from dotenv import find_dotenv, load_dotenv\n",
    "\n",
    "dotenv_path = find_dotenv()\n",
    "load_dotenv(dotenv_path)\n",
    "\n",
    "def psycopg_client():\n",
    "    db_url = f\"dbname={os.environ.get('SOURCE_DB')} user={os.environ.get('SOURCE_USER')} password={os.environ.get('SOURCE_PASS')} host={os.environ.get('SOURCE_HOST')}\"\n",
    "    return psycopg2.connect(db_url)\n",
    "\n",
    "def generate_dummy_data(num_rows):\n",
    "    fake = Faker()\n",
    "    dummy_data = []\n",
    "    for _ in range(num_rows):\n",
    "        dummy_data.append({\n",
    "            'name': fake.name(),\n",
    "            'age': random.randint(18, 99),\n",
    "            'gender': random.choice(['M', 'F'])\n",
    "        })\n",
    "    return dummy_data\n",
    "\n",
    "def insert_dummy_data(data,engine):\n",
    "    Session = sessionmaker(bind=engine)\n",
    "    session = Session()\n",
    "    for row in data:\n",
    "        dummy_row = DummyTable(**row)\n",
    "        session.add(dummy_row)\n",
    "    session.commit()\n",
    "    session.close()\n",
    "    \n",
    "def insert_dummy_data_fast(data, table_name,conn):\n",
    "    with conn.cursor() as cursor:\n",
    "        insert_query = \"\"\"\n",
    "            INSERT INTO {table_name}\n",
    "            VALUES %s;\n",
    "        \"\"\"\n",
    "        # Convert the dictionaries to tuples\n",
    "        data_tuples = [(row['name'], row['age'], row['gender']) for row in data]\n",
    "        \n",
    "        # Execute the insert query with multiple rows\n",
    "        psycopg2.extras.execute_values(cursor, insert_query, data_tuples)\n",
    "        conn.commit()"
   ]
  },
  {
   "cell_type": "code",
   "execution_count": 21,
   "metadata": {},
   "outputs": [],
   "source": [
    "dummy_data = generate_dummy_data(100)"
   ]
  },
  {
   "cell_type": "code",
   "execution_count": 4,
   "metadata": {},
   "outputs": [],
   "source": [
    "import os\n",
    "import ssl\n",
    "from dotenv import find_dotenv, load_dotenv\n",
    "\n",
    "dotenv_path = find_dotenv()\n",
    "load_dotenv(dotenv_path)\n",
    "\n",
    "import sqlalchemy\n",
    "from sqlalchemy import create_engine\n",
    "\n",
    "\n",
    "\n",
    "\n",
    "def connect_tcp_socket() -> sqlalchemy.engine.base.Engine:\n",
    "    \"\"\"Initializes a TCP connection pool for a Cloud SQL instance of Postgres.\"\"\"\n",
    "    db_host = os.environ.get(\"SOURCE_HOST\")\n",
    "    db_user = os.environ.get(\"SOURCE_USER\")  # e.g. 'my-db-user'\n",
    "    db_pass = os.environ.get(\"SOURCE_PASS\")  # e.g. 'my-db-password'\n",
    "    db_name = os.environ.get(\"SOURCE_DB\")  # e.g. 'my-database'\n",
    "    db_port = os.environ.get(\"SOURCE_PORT\")  # e.g. 5432\n",
    "\n",
    "    pool = sqlalchemy.create_engine(\n",
    "        # Equivalent URL:\n",
    "        # postgresql+pg8000://<db_user>:<db_pass>@<db_host>:<db_port>/<db_name>\n",
    "        sqlalchemy.engine.url.URL.create(\n",
    "            drivername=\"postgresql+pg8000\",\n",
    "            username=db_user,\n",
    "            password=db_pass,\n",
    "            host=db_host,\n",
    "            port=db_port,\n",
    "            database=db_name,\n",
    "        ),\n",
    "        # ...\n",
    "    )\n",
    "    return pool\n"
   ]
  },
  {
   "cell_type": "code",
   "execution_count": 6,
   "metadata": {},
   "outputs": [],
   "source": [
    "engine = connect_tcp_socket()\n",
    "from sqlalchemy import MetaData, Table\n",
    "metadata = MetaData()\n",
    "metadata.reflect(bind=engine,schema='public')\n"
   ]
  },
  {
   "cell_type": "code",
   "execution_count": null,
   "metadata": {},
   "outputs": [],
   "source": []
  },
  {
   "cell_type": "code",
   "execution_count": 7,
   "metadata": {},
   "outputs": [
    {
     "name": "stdout",
     "output_type": "stream",
     "text": [
      "['public.dummy_table']\n"
     ]
    }
   ],
   "source": [
    "print([t for t in metadata.tables.keys()])"
   ]
  },
  {
   "cell_type": "code",
   "execution_count": 22,
   "metadata": {},
   "outputs": [],
   "source": [
    "insert_dummy_data(dummy_data,engine)"
   ]
  },
  {
   "cell_type": "code",
   "execution_count": 1,
   "metadata": {},
   "outputs": [
    {
     "ename": "NameError",
     "evalue": "name 'engine' is not defined",
     "output_type": "error",
     "traceback": [
      "\u001b[0;31m---------------------------------------------------------------------------\u001b[0m",
      "\u001b[0;31mNameError\u001b[0m                                 Traceback (most recent call last)",
      "Cell \u001b[0;32mIn[1], line 1\u001b[0m\n\u001b[0;32m----> 1\u001b[0m engine\u001b[39m.\u001b[39mclose()\n",
      "\u001b[0;31mNameError\u001b[0m: name 'engine' is not defined"
     ]
    }
   ],
   "source": []
  },
  {
   "cell_type": "code",
   "execution_count": 32,
   "metadata": {},
   "outputs": [
    {
     "ename": "InterfaceError",
     "evalue": "(pg8000.exceptions.InterfaceError) Can't create a connection to host 34.131.22.145 and port 5432 (timeout is None and source_address is None).\n(Background on this error at: https://sqlalche.me/e/20/rvf5)",
     "output_type": "error",
     "traceback": [
      "\u001b[0;31m---------------------------------------------------------------------------\u001b[0m",
      "\u001b[0;31mTimeoutError\u001b[0m                              Traceback (most recent call last)",
      "File \u001b[0;32m~/de/venv/lib/python3.9/site-packages/pg8000/core.py:243\u001b[0m, in \u001b[0;36mCoreConnection.__init__\u001b[0;34m(self, user, host, database, port, password, source_address, unix_sock, ssl_context, timeout, tcp_keepalive, application_name, replication)\u001b[0m\n\u001b[1;32m    242\u001b[0m \u001b[39mtry\u001b[39;00m:\n\u001b[0;32m--> 243\u001b[0m     \u001b[39mself\u001b[39m\u001b[39m.\u001b[39m_usock \u001b[39m=\u001b[39m socket\u001b[39m.\u001b[39;49mcreate_connection(\n\u001b[1;32m    244\u001b[0m         (host, port), timeout, source_address\n\u001b[1;32m    245\u001b[0m     )\n\u001b[1;32m    246\u001b[0m \u001b[39mexcept\u001b[39;00m socket\u001b[39m.\u001b[39merror \u001b[39mas\u001b[39;00m e:\n",
      "File \u001b[0;32m/Library/Developer/CommandLineTools/Library/Frameworks/Python3.framework/Versions/3.9/lib/python3.9/socket.py:843\u001b[0m, in \u001b[0;36mcreate_connection\u001b[0;34m(address, timeout, source_address)\u001b[0m\n\u001b[1;32m    842\u001b[0m \u001b[39mtry\u001b[39;00m:\n\u001b[0;32m--> 843\u001b[0m     \u001b[39mraise\u001b[39;00m err\n\u001b[1;32m    844\u001b[0m \u001b[39mfinally\u001b[39;00m:\n\u001b[1;32m    845\u001b[0m     \u001b[39m# Break explicitly a reference cycle\u001b[39;00m\n",
      "File \u001b[0;32m/Library/Developer/CommandLineTools/Library/Frameworks/Python3.framework/Versions/3.9/lib/python3.9/socket.py:831\u001b[0m, in \u001b[0;36mcreate_connection\u001b[0;34m(address, timeout, source_address)\u001b[0m\n\u001b[1;32m    830\u001b[0m     sock\u001b[39m.\u001b[39mbind(source_address)\n\u001b[0;32m--> 831\u001b[0m sock\u001b[39m.\u001b[39;49mconnect(sa)\n\u001b[1;32m    832\u001b[0m \u001b[39m# Break explicitly a reference cycle\u001b[39;00m\n",
      "\u001b[0;31mTimeoutError\u001b[0m: [Errno 60] Operation timed out",
      "\nThe above exception was the direct cause of the following exception:\n",
      "\u001b[0;31mInterfaceError\u001b[0m                            Traceback (most recent call last)",
      "File \u001b[0;32m~/de/venv/lib/python3.9/site-packages/sqlalchemy/engine/base.py:145\u001b[0m, in \u001b[0;36mConnection.__init__\u001b[0;34m(self, engine, connection, _has_events, _allow_revalidate, _allow_autobegin)\u001b[0m\n\u001b[1;32m    144\u001b[0m \u001b[39mtry\u001b[39;00m:\n\u001b[0;32m--> 145\u001b[0m     \u001b[39mself\u001b[39m\u001b[39m.\u001b[39m_dbapi_connection \u001b[39m=\u001b[39m engine\u001b[39m.\u001b[39;49mraw_connection()\n\u001b[1;32m    146\u001b[0m \u001b[39mexcept\u001b[39;00m dialect\u001b[39m.\u001b[39mloaded_dbapi\u001b[39m.\u001b[39mError \u001b[39mas\u001b[39;00m err:\n",
      "File \u001b[0;32m~/de/venv/lib/python3.9/site-packages/sqlalchemy/engine/base.py:3288\u001b[0m, in \u001b[0;36mEngine.raw_connection\u001b[0;34m(self)\u001b[0m\n\u001b[1;32m   3267\u001b[0m \u001b[39m\u001b[39m\u001b[39m\"\"\"Return a \"raw\" DBAPI connection from the connection pool.\u001b[39;00m\n\u001b[1;32m   3268\u001b[0m \n\u001b[1;32m   3269\u001b[0m \u001b[39mThe returned object is a proxied version of the DBAPI\u001b[39;00m\n\u001b[0;32m   (...)\u001b[0m\n\u001b[1;32m   3286\u001b[0m \n\u001b[1;32m   3287\u001b[0m \u001b[39m\"\"\"\u001b[39;00m\n\u001b[0;32m-> 3288\u001b[0m \u001b[39mreturn\u001b[39;00m \u001b[39mself\u001b[39;49m\u001b[39m.\u001b[39;49mpool\u001b[39m.\u001b[39;49mconnect()\n",
      "File \u001b[0;32m~/de/venv/lib/python3.9/site-packages/sqlalchemy/pool/base.py:452\u001b[0m, in \u001b[0;36mPool.connect\u001b[0;34m(self)\u001b[0m\n\u001b[1;32m    445\u001b[0m \u001b[39m\u001b[39m\u001b[39m\"\"\"Return a DBAPI connection from the pool.\u001b[39;00m\n\u001b[1;32m    446\u001b[0m \n\u001b[1;32m    447\u001b[0m \u001b[39mThe connection is instrumented such that when its\u001b[39;00m\n\u001b[0;32m   (...)\u001b[0m\n\u001b[1;32m    450\u001b[0m \n\u001b[1;32m    451\u001b[0m \u001b[39m\"\"\"\u001b[39;00m\n\u001b[0;32m--> 452\u001b[0m \u001b[39mreturn\u001b[39;00m _ConnectionFairy\u001b[39m.\u001b[39;49m_checkout(\u001b[39mself\u001b[39;49m)\n",
      "File \u001b[0;32m~/de/venv/lib/python3.9/site-packages/sqlalchemy/pool/base.py:1267\u001b[0m, in \u001b[0;36m_ConnectionFairy._checkout\u001b[0;34m(cls, pool, threadconns, fairy)\u001b[0m\n\u001b[1;32m   1266\u001b[0m \u001b[39mif\u001b[39;00m \u001b[39mnot\u001b[39;00m fairy:\n\u001b[0;32m-> 1267\u001b[0m     fairy \u001b[39m=\u001b[39m _ConnectionRecord\u001b[39m.\u001b[39;49mcheckout(pool)\n\u001b[1;32m   1269\u001b[0m     \u001b[39mif\u001b[39;00m threadconns \u001b[39mis\u001b[39;00m \u001b[39mnot\u001b[39;00m \u001b[39mNone\u001b[39;00m:\n",
      "File \u001b[0;32m~/de/venv/lib/python3.9/site-packages/sqlalchemy/pool/base.py:716\u001b[0m, in \u001b[0;36m_ConnectionRecord.checkout\u001b[0;34m(cls, pool)\u001b[0m\n\u001b[1;32m    715\u001b[0m \u001b[39melse\u001b[39;00m:\n\u001b[0;32m--> 716\u001b[0m     rec \u001b[39m=\u001b[39m pool\u001b[39m.\u001b[39;49m_do_get()\n\u001b[1;32m    718\u001b[0m \u001b[39mtry\u001b[39;00m:\n",
      "File \u001b[0;32m~/de/venv/lib/python3.9/site-packages/sqlalchemy/pool/impl.py:170\u001b[0m, in \u001b[0;36mQueuePool._do_get\u001b[0;34m(self)\u001b[0m\n\u001b[1;32m    169\u001b[0m \u001b[39mwith\u001b[39;00m util\u001b[39m.\u001b[39msafe_reraise():\n\u001b[0;32m--> 170\u001b[0m     \u001b[39mself\u001b[39m\u001b[39m.\u001b[39m_dec_overflow()\n\u001b[1;32m    171\u001b[0m \u001b[39mraise\u001b[39;00m\n",
      "File \u001b[0;32m~/de/venv/lib/python3.9/site-packages/sqlalchemy/util/langhelpers.py:147\u001b[0m, in \u001b[0;36msafe_reraise.__exit__\u001b[0;34m(self, type_, value, traceback)\u001b[0m\n\u001b[1;32m    146\u001b[0m     \u001b[39mself\u001b[39m\u001b[39m.\u001b[39m_exc_info \u001b[39m=\u001b[39m \u001b[39mNone\u001b[39;00m  \u001b[39m# remove potential circular references\u001b[39;00m\n\u001b[0;32m--> 147\u001b[0m     \u001b[39mraise\u001b[39;00m exc_value\u001b[39m.\u001b[39mwith_traceback(exc_tb)\n\u001b[1;32m    148\u001b[0m \u001b[39melse\u001b[39;00m:\n",
      "File \u001b[0;32m~/de/venv/lib/python3.9/site-packages/sqlalchemy/pool/impl.py:167\u001b[0m, in \u001b[0;36mQueuePool._do_get\u001b[0;34m(self)\u001b[0m\n\u001b[1;32m    166\u001b[0m \u001b[39mtry\u001b[39;00m:\n\u001b[0;32m--> 167\u001b[0m     \u001b[39mreturn\u001b[39;00m \u001b[39mself\u001b[39;49m\u001b[39m.\u001b[39;49m_create_connection()\n\u001b[1;32m    168\u001b[0m \u001b[39mexcept\u001b[39;00m:\n",
      "File \u001b[0;32m~/de/venv/lib/python3.9/site-packages/sqlalchemy/pool/base.py:393\u001b[0m, in \u001b[0;36mPool._create_connection\u001b[0;34m(self)\u001b[0m\n\u001b[1;32m    391\u001b[0m \u001b[39m\u001b[39m\u001b[39m\"\"\"Called by subclasses to create a new ConnectionRecord.\"\"\"\u001b[39;00m\n\u001b[0;32m--> 393\u001b[0m \u001b[39mreturn\u001b[39;00m _ConnectionRecord(\u001b[39mself\u001b[39;49m)\n",
      "File \u001b[0;32m~/de/venv/lib/python3.9/site-packages/sqlalchemy/pool/base.py:678\u001b[0m, in \u001b[0;36m_ConnectionRecord.__init__\u001b[0;34m(self, pool, connect)\u001b[0m\n\u001b[1;32m    677\u001b[0m \u001b[39mif\u001b[39;00m connect:\n\u001b[0;32m--> 678\u001b[0m     \u001b[39mself\u001b[39;49m\u001b[39m.\u001b[39;49m__connect()\n\u001b[1;32m    679\u001b[0m \u001b[39mself\u001b[39m\u001b[39m.\u001b[39mfinalize_callback \u001b[39m=\u001b[39m deque()\n",
      "File \u001b[0;32m~/de/venv/lib/python3.9/site-packages/sqlalchemy/pool/base.py:903\u001b[0m, in \u001b[0;36m_ConnectionRecord.__connect\u001b[0;34m(self)\u001b[0m\n\u001b[1;32m    902\u001b[0m     \u001b[39mwith\u001b[39;00m util\u001b[39m.\u001b[39msafe_reraise():\n\u001b[0;32m--> 903\u001b[0m         pool\u001b[39m.\u001b[39mlogger\u001b[39m.\u001b[39mdebug(\u001b[39m\"\u001b[39m\u001b[39mError on connect(): \u001b[39m\u001b[39m%s\u001b[39;00m\u001b[39m\"\u001b[39m, e)\n\u001b[1;32m    904\u001b[0m \u001b[39melse\u001b[39;00m:\n\u001b[1;32m    905\u001b[0m     \u001b[39m# in SQLAlchemy 1.4 the first_connect event is not used by\u001b[39;00m\n\u001b[1;32m    906\u001b[0m     \u001b[39m# the engine, so this will usually not be set\u001b[39;00m\n",
      "File \u001b[0;32m~/de/venv/lib/python3.9/site-packages/sqlalchemy/util/langhelpers.py:147\u001b[0m, in \u001b[0;36msafe_reraise.__exit__\u001b[0;34m(self, type_, value, traceback)\u001b[0m\n\u001b[1;32m    146\u001b[0m     \u001b[39mself\u001b[39m\u001b[39m.\u001b[39m_exc_info \u001b[39m=\u001b[39m \u001b[39mNone\u001b[39;00m  \u001b[39m# remove potential circular references\u001b[39;00m\n\u001b[0;32m--> 147\u001b[0m     \u001b[39mraise\u001b[39;00m exc_value\u001b[39m.\u001b[39mwith_traceback(exc_tb)\n\u001b[1;32m    148\u001b[0m \u001b[39melse\u001b[39;00m:\n",
      "File \u001b[0;32m~/de/venv/lib/python3.9/site-packages/sqlalchemy/pool/base.py:898\u001b[0m, in \u001b[0;36m_ConnectionRecord.__connect\u001b[0;34m(self)\u001b[0m\n\u001b[1;32m    897\u001b[0m \u001b[39mself\u001b[39m\u001b[39m.\u001b[39mstarttime \u001b[39m=\u001b[39m time\u001b[39m.\u001b[39mtime()\n\u001b[0;32m--> 898\u001b[0m \u001b[39mself\u001b[39m\u001b[39m.\u001b[39mdbapi_connection \u001b[39m=\u001b[39m connection \u001b[39m=\u001b[39m pool\u001b[39m.\u001b[39;49m_invoke_creator(\u001b[39mself\u001b[39;49m)\n\u001b[1;32m    899\u001b[0m pool\u001b[39m.\u001b[39mlogger\u001b[39m.\u001b[39mdebug(\u001b[39m\"\u001b[39m\u001b[39mCreated new connection \u001b[39m\u001b[39m%r\u001b[39;00m\u001b[39m\"\u001b[39m, connection)\n",
      "File \u001b[0;32m~/de/venv/lib/python3.9/site-packages/sqlalchemy/engine/create.py:637\u001b[0m, in \u001b[0;36mcreate_engine.<locals>.connect\u001b[0;34m(connection_record)\u001b[0m\n\u001b[1;32m    635\u001b[0m             \u001b[39mreturn\u001b[39;00m connection\n\u001b[0;32m--> 637\u001b[0m \u001b[39mreturn\u001b[39;00m dialect\u001b[39m.\u001b[39;49mconnect(\u001b[39m*\u001b[39;49mcargs, \u001b[39m*\u001b[39;49m\u001b[39m*\u001b[39;49mcparams)\n",
      "File \u001b[0;32m~/de/venv/lib/python3.9/site-packages/sqlalchemy/engine/default.py:615\u001b[0m, in \u001b[0;36mDefaultDialect.connect\u001b[0;34m(self, *cargs, **cparams)\u001b[0m\n\u001b[1;32m    613\u001b[0m \u001b[39mdef\u001b[39;00m \u001b[39mconnect\u001b[39m(\u001b[39mself\u001b[39m, \u001b[39m*\u001b[39mcargs, \u001b[39m*\u001b[39m\u001b[39m*\u001b[39mcparams):\n\u001b[1;32m    614\u001b[0m     \u001b[39m# inherits the docstring from interfaces.Dialect.connect\u001b[39;00m\n\u001b[0;32m--> 615\u001b[0m     \u001b[39mreturn\u001b[39;00m \u001b[39mself\u001b[39;49m\u001b[39m.\u001b[39;49mloaded_dbapi\u001b[39m.\u001b[39;49mconnect(\u001b[39m*\u001b[39;49mcargs, \u001b[39m*\u001b[39;49m\u001b[39m*\u001b[39;49mcparams)\n",
      "File \u001b[0;32m~/de/venv/lib/python3.9/site-packages/pg8000/__init__.py:111\u001b[0m, in \u001b[0;36mconnect\u001b[0;34m(user, host, database, port, password, source_address, unix_sock, ssl_context, timeout, tcp_keepalive, application_name, replication)\u001b[0m\n\u001b[1;32m     97\u001b[0m \u001b[39mdef\u001b[39;00m \u001b[39mconnect\u001b[39m(\n\u001b[1;32m     98\u001b[0m     user,\n\u001b[1;32m     99\u001b[0m     host\u001b[39m=\u001b[39m\u001b[39m\"\u001b[39m\u001b[39mlocalhost\u001b[39m\u001b[39m\"\u001b[39m,\n\u001b[0;32m   (...)\u001b[0m\n\u001b[1;32m    109\u001b[0m     replication\u001b[39m=\u001b[39m\u001b[39mNone\u001b[39;00m,\n\u001b[1;32m    110\u001b[0m ):\n\u001b[0;32m--> 111\u001b[0m     \u001b[39mreturn\u001b[39;00m Connection(\n\u001b[1;32m    112\u001b[0m         user,\n\u001b[1;32m    113\u001b[0m         host\u001b[39m=\u001b[39;49mhost,\n\u001b[1;32m    114\u001b[0m         database\u001b[39m=\u001b[39;49mdatabase,\n\u001b[1;32m    115\u001b[0m         port\u001b[39m=\u001b[39;49mport,\n\u001b[1;32m    116\u001b[0m         password\u001b[39m=\u001b[39;49mpassword,\n\u001b[1;32m    117\u001b[0m         source_address\u001b[39m=\u001b[39;49msource_address,\n\u001b[1;32m    118\u001b[0m         unix_sock\u001b[39m=\u001b[39;49munix_sock,\n\u001b[1;32m    119\u001b[0m         ssl_context\u001b[39m=\u001b[39;49mssl_context,\n\u001b[1;32m    120\u001b[0m         timeout\u001b[39m=\u001b[39;49mtimeout,\n\u001b[1;32m    121\u001b[0m         tcp_keepalive\u001b[39m=\u001b[39;49mtcp_keepalive,\n\u001b[1;32m    122\u001b[0m         application_name\u001b[39m=\u001b[39;49mapplication_name,\n\u001b[1;32m    123\u001b[0m         replication\u001b[39m=\u001b[39;49mreplication,\n\u001b[1;32m    124\u001b[0m     )\n",
      "File \u001b[0;32m~/de/venv/lib/python3.9/site-packages/pg8000/legacy.py:443\u001b[0m, in \u001b[0;36mConnection.__init__\u001b[0;34m(self, *args, **kwargs)\u001b[0m\n\u001b[1;32m    442\u001b[0m \u001b[39mtry\u001b[39;00m:\n\u001b[0;32m--> 443\u001b[0m     \u001b[39msuper\u001b[39;49m()\u001b[39m.\u001b[39;49m\u001b[39m__init__\u001b[39;49m(\u001b[39m*\u001b[39;49margs, \u001b[39m*\u001b[39;49m\u001b[39m*\u001b[39;49mkwargs)\n\u001b[1;32m    444\u001b[0m \u001b[39mexcept\u001b[39;00m DatabaseError \u001b[39mas\u001b[39;00m e:\n",
      "File \u001b[0;32m~/de/venv/lib/python3.9/site-packages/pg8000/core.py:247\u001b[0m, in \u001b[0;36mCoreConnection.__init__\u001b[0;34m(self, user, host, database, port, password, source_address, unix_sock, ssl_context, timeout, tcp_keepalive, application_name, replication)\u001b[0m\n\u001b[1;32m    246\u001b[0m     \u001b[39mexcept\u001b[39;00m socket\u001b[39m.\u001b[39merror \u001b[39mas\u001b[39;00m e:\n\u001b[0;32m--> 247\u001b[0m         \u001b[39mraise\u001b[39;00m InterfaceError(\n\u001b[1;32m    248\u001b[0m             \u001b[39mf\u001b[39m\u001b[39m\"\u001b[39m\u001b[39mCan\u001b[39m\u001b[39m'\u001b[39m\u001b[39mt create a connection to host \u001b[39m\u001b[39m{\u001b[39;00mhost\u001b[39m}\u001b[39;00m\u001b[39m and port \u001b[39m\u001b[39m{\u001b[39;00mport\u001b[39m}\u001b[39;00m\u001b[39m \u001b[39m\u001b[39m\"\u001b[39m\n\u001b[1;32m    249\u001b[0m             \u001b[39mf\u001b[39m\u001b[39m\"\u001b[39m\u001b[39m(timeout is \u001b[39m\u001b[39m{\u001b[39;00mtimeout\u001b[39m}\u001b[39;00m\u001b[39m and source_address is \u001b[39m\u001b[39m{\u001b[39;00msource_address\u001b[39m}\u001b[39;00m\u001b[39m).\u001b[39m\u001b[39m\"\u001b[39m\n\u001b[1;32m    250\u001b[0m         ) \u001b[39mfrom\u001b[39;00m \u001b[39me\u001b[39;00m\n\u001b[1;32m    252\u001b[0m \u001b[39melif\u001b[39;00m unix_sock \u001b[39mis\u001b[39;00m \u001b[39mnot\u001b[39;00m \u001b[39mNone\u001b[39;00m:\n",
      "\u001b[0;31mInterfaceError\u001b[0m: Can't create a connection to host 34.131.22.145 and port 5432 (timeout is None and source_address is None).",
      "\nThe above exception was the direct cause of the following exception:\n",
      "\u001b[0;31mInterfaceError\u001b[0m                            Traceback (most recent call last)",
      "Cell \u001b[0;32mIn[32], line 1\u001b[0m\n\u001b[0;32m----> 1\u001b[0m cursor \u001b[39m=\u001b[39m engine\u001b[39m.\u001b[39;49mconnect()\n",
      "File \u001b[0;32m~/de/venv/lib/python3.9/site-packages/sqlalchemy/engine/base.py:3264\u001b[0m, in \u001b[0;36mEngine.connect\u001b[0;34m(self)\u001b[0m\n\u001b[1;32m   3241\u001b[0m \u001b[39mdef\u001b[39;00m \u001b[39mconnect\u001b[39m(\u001b[39mself\u001b[39m) \u001b[39m-\u001b[39m\u001b[39m>\u001b[39m Connection:\n\u001b[1;32m   3242\u001b[0m \u001b[39m    \u001b[39m\u001b[39m\"\"\"Return a new :class:`_engine.Connection` object.\u001b[39;00m\n\u001b[1;32m   3243\u001b[0m \n\u001b[1;32m   3244\u001b[0m \u001b[39m    The :class:`_engine.Connection` acts as a Python context manager, so\u001b[39;00m\n\u001b[0;32m   (...)\u001b[0m\n\u001b[1;32m   3261\u001b[0m \n\u001b[1;32m   3262\u001b[0m \u001b[39m    \"\"\"\u001b[39;00m\n\u001b[0;32m-> 3264\u001b[0m     \u001b[39mreturn\u001b[39;00m \u001b[39mself\u001b[39;49m\u001b[39m.\u001b[39;49m_connection_cls(\u001b[39mself\u001b[39;49m)\n",
      "File \u001b[0;32m~/de/venv/lib/python3.9/site-packages/sqlalchemy/engine/base.py:147\u001b[0m, in \u001b[0;36mConnection.__init__\u001b[0;34m(self, engine, connection, _has_events, _allow_revalidate, _allow_autobegin)\u001b[0m\n\u001b[1;32m    145\u001b[0m         \u001b[39mself\u001b[39m\u001b[39m.\u001b[39m_dbapi_connection \u001b[39m=\u001b[39m engine\u001b[39m.\u001b[39mraw_connection()\n\u001b[1;32m    146\u001b[0m     \u001b[39mexcept\u001b[39;00m dialect\u001b[39m.\u001b[39mloaded_dbapi\u001b[39m.\u001b[39mError \u001b[39mas\u001b[39;00m err:\n\u001b[0;32m--> 147\u001b[0m         Connection\u001b[39m.\u001b[39;49m_handle_dbapi_exception_noconnection(\n\u001b[1;32m    148\u001b[0m             err, dialect, engine\n\u001b[1;32m    149\u001b[0m         )\n\u001b[1;32m    150\u001b[0m         \u001b[39mraise\u001b[39;00m\n\u001b[1;32m    151\u001b[0m \u001b[39melse\u001b[39;00m:\n",
      "File \u001b[0;32m~/de/venv/lib/python3.9/site-packages/sqlalchemy/engine/base.py:2426\u001b[0m, in \u001b[0;36mConnection._handle_dbapi_exception_noconnection\u001b[0;34m(cls, e, dialect, engine, is_disconnect, invalidate_pool_on_disconnect, is_pre_ping)\u001b[0m\n\u001b[1;32m   2424\u001b[0m \u001b[39melif\u001b[39;00m should_wrap:\n\u001b[1;32m   2425\u001b[0m     \u001b[39massert\u001b[39;00m sqlalchemy_exception \u001b[39mis\u001b[39;00m \u001b[39mnot\u001b[39;00m \u001b[39mNone\u001b[39;00m\n\u001b[0;32m-> 2426\u001b[0m     \u001b[39mraise\u001b[39;00m sqlalchemy_exception\u001b[39m.\u001b[39mwith_traceback(exc_info[\u001b[39m2\u001b[39m]) \u001b[39mfrom\u001b[39;00m \u001b[39me\u001b[39;00m\n\u001b[1;32m   2427\u001b[0m \u001b[39melse\u001b[39;00m:\n\u001b[1;32m   2428\u001b[0m     \u001b[39massert\u001b[39;00m exc_info[\u001b[39m1\u001b[39m] \u001b[39mis\u001b[39;00m \u001b[39mnot\u001b[39;00m \u001b[39mNone\u001b[39;00m\n",
      "File \u001b[0;32m~/de/venv/lib/python3.9/site-packages/sqlalchemy/engine/base.py:145\u001b[0m, in \u001b[0;36mConnection.__init__\u001b[0;34m(self, engine, connection, _has_events, _allow_revalidate, _allow_autobegin)\u001b[0m\n\u001b[1;32m    143\u001b[0m \u001b[39mif\u001b[39;00m connection \u001b[39mis\u001b[39;00m \u001b[39mNone\u001b[39;00m:\n\u001b[1;32m    144\u001b[0m     \u001b[39mtry\u001b[39;00m:\n\u001b[0;32m--> 145\u001b[0m         \u001b[39mself\u001b[39m\u001b[39m.\u001b[39m_dbapi_connection \u001b[39m=\u001b[39m engine\u001b[39m.\u001b[39;49mraw_connection()\n\u001b[1;32m    146\u001b[0m     \u001b[39mexcept\u001b[39;00m dialect\u001b[39m.\u001b[39mloaded_dbapi\u001b[39m.\u001b[39mError \u001b[39mas\u001b[39;00m err:\n\u001b[1;32m    147\u001b[0m         Connection\u001b[39m.\u001b[39m_handle_dbapi_exception_noconnection(\n\u001b[1;32m    148\u001b[0m             err, dialect, engine\n\u001b[1;32m    149\u001b[0m         )\n",
      "File \u001b[0;32m~/de/venv/lib/python3.9/site-packages/sqlalchemy/engine/base.py:3288\u001b[0m, in \u001b[0;36mEngine.raw_connection\u001b[0;34m(self)\u001b[0m\n\u001b[1;32m   3266\u001b[0m \u001b[39mdef\u001b[39;00m \u001b[39mraw_connection\u001b[39m(\u001b[39mself\u001b[39m) \u001b[39m-\u001b[39m\u001b[39m>\u001b[39m PoolProxiedConnection:\n\u001b[1;32m   3267\u001b[0m \u001b[39m    \u001b[39m\u001b[39m\"\"\"Return a \"raw\" DBAPI connection from the connection pool.\u001b[39;00m\n\u001b[1;32m   3268\u001b[0m \n\u001b[1;32m   3269\u001b[0m \u001b[39m    The returned object is a proxied version of the DBAPI\u001b[39;00m\n\u001b[0;32m   (...)\u001b[0m\n\u001b[1;32m   3286\u001b[0m \n\u001b[1;32m   3287\u001b[0m \u001b[39m    \"\"\"\u001b[39;00m\n\u001b[0;32m-> 3288\u001b[0m     \u001b[39mreturn\u001b[39;00m \u001b[39mself\u001b[39;49m\u001b[39m.\u001b[39;49mpool\u001b[39m.\u001b[39;49mconnect()\n",
      "File \u001b[0;32m~/de/venv/lib/python3.9/site-packages/sqlalchemy/pool/base.py:452\u001b[0m, in \u001b[0;36mPool.connect\u001b[0;34m(self)\u001b[0m\n\u001b[1;32m    444\u001b[0m \u001b[39mdef\u001b[39;00m \u001b[39mconnect\u001b[39m(\u001b[39mself\u001b[39m) \u001b[39m-\u001b[39m\u001b[39m>\u001b[39m PoolProxiedConnection:\n\u001b[1;32m    445\u001b[0m \u001b[39m    \u001b[39m\u001b[39m\"\"\"Return a DBAPI connection from the pool.\u001b[39;00m\n\u001b[1;32m    446\u001b[0m \n\u001b[1;32m    447\u001b[0m \u001b[39m    The connection is instrumented such that when its\u001b[39;00m\n\u001b[0;32m   (...)\u001b[0m\n\u001b[1;32m    450\u001b[0m \n\u001b[1;32m    451\u001b[0m \u001b[39m    \"\"\"\u001b[39;00m\n\u001b[0;32m--> 452\u001b[0m     \u001b[39mreturn\u001b[39;00m _ConnectionFairy\u001b[39m.\u001b[39;49m_checkout(\u001b[39mself\u001b[39;49m)\n",
      "File \u001b[0;32m~/de/venv/lib/python3.9/site-packages/sqlalchemy/pool/base.py:1267\u001b[0m, in \u001b[0;36m_ConnectionFairy._checkout\u001b[0;34m(cls, pool, threadconns, fairy)\u001b[0m\n\u001b[1;32m   1259\u001b[0m \u001b[39m@classmethod\u001b[39m\n\u001b[1;32m   1260\u001b[0m \u001b[39mdef\u001b[39;00m \u001b[39m_checkout\u001b[39m(\n\u001b[1;32m   1261\u001b[0m     \u001b[39mcls\u001b[39m,\n\u001b[0;32m   (...)\u001b[0m\n\u001b[1;32m   1264\u001b[0m     fairy: Optional[_ConnectionFairy] \u001b[39m=\u001b[39m \u001b[39mNone\u001b[39;00m,\n\u001b[1;32m   1265\u001b[0m ) \u001b[39m-\u001b[39m\u001b[39m>\u001b[39m _ConnectionFairy:\n\u001b[1;32m   1266\u001b[0m     \u001b[39mif\u001b[39;00m \u001b[39mnot\u001b[39;00m fairy:\n\u001b[0;32m-> 1267\u001b[0m         fairy \u001b[39m=\u001b[39m _ConnectionRecord\u001b[39m.\u001b[39;49mcheckout(pool)\n\u001b[1;32m   1269\u001b[0m         \u001b[39mif\u001b[39;00m threadconns \u001b[39mis\u001b[39;00m \u001b[39mnot\u001b[39;00m \u001b[39mNone\u001b[39;00m:\n\u001b[1;32m   1270\u001b[0m             threadconns\u001b[39m.\u001b[39mcurrent \u001b[39m=\u001b[39m weakref\u001b[39m.\u001b[39mref(fairy)\n",
      "File \u001b[0;32m~/de/venv/lib/python3.9/site-packages/sqlalchemy/pool/base.py:716\u001b[0m, in \u001b[0;36m_ConnectionRecord.checkout\u001b[0;34m(cls, pool)\u001b[0m\n\u001b[1;32m    714\u001b[0m     rec \u001b[39m=\u001b[39m cast(_ConnectionRecord, pool\u001b[39m.\u001b[39m_do_get())\n\u001b[1;32m    715\u001b[0m \u001b[39melse\u001b[39;00m:\n\u001b[0;32m--> 716\u001b[0m     rec \u001b[39m=\u001b[39m pool\u001b[39m.\u001b[39;49m_do_get()\n\u001b[1;32m    718\u001b[0m \u001b[39mtry\u001b[39;00m:\n\u001b[1;32m    719\u001b[0m     dbapi_connection \u001b[39m=\u001b[39m rec\u001b[39m.\u001b[39mget_connection()\n",
      "File \u001b[0;32m~/de/venv/lib/python3.9/site-packages/sqlalchemy/pool/impl.py:170\u001b[0m, in \u001b[0;36mQueuePool._do_get\u001b[0;34m(self)\u001b[0m\n\u001b[1;32m    168\u001b[0m     \u001b[39mexcept\u001b[39;00m:\n\u001b[1;32m    169\u001b[0m         \u001b[39mwith\u001b[39;00m util\u001b[39m.\u001b[39msafe_reraise():\n\u001b[0;32m--> 170\u001b[0m             \u001b[39mself\u001b[39m\u001b[39m.\u001b[39m_dec_overflow()\n\u001b[1;32m    171\u001b[0m         \u001b[39mraise\u001b[39;00m\n\u001b[1;32m    172\u001b[0m \u001b[39melse\u001b[39;00m:\n",
      "File \u001b[0;32m~/de/venv/lib/python3.9/site-packages/sqlalchemy/util/langhelpers.py:147\u001b[0m, in \u001b[0;36msafe_reraise.__exit__\u001b[0;34m(self, type_, value, traceback)\u001b[0m\n\u001b[1;32m    145\u001b[0m     \u001b[39massert\u001b[39;00m exc_value \u001b[39mis\u001b[39;00m \u001b[39mnot\u001b[39;00m \u001b[39mNone\u001b[39;00m\n\u001b[1;32m    146\u001b[0m     \u001b[39mself\u001b[39m\u001b[39m.\u001b[39m_exc_info \u001b[39m=\u001b[39m \u001b[39mNone\u001b[39;00m  \u001b[39m# remove potential circular references\u001b[39;00m\n\u001b[0;32m--> 147\u001b[0m     \u001b[39mraise\u001b[39;00m exc_value\u001b[39m.\u001b[39mwith_traceback(exc_tb)\n\u001b[1;32m    148\u001b[0m \u001b[39melse\u001b[39;00m:\n\u001b[1;32m    149\u001b[0m     \u001b[39mself\u001b[39m\u001b[39m.\u001b[39m_exc_info \u001b[39m=\u001b[39m \u001b[39mNone\u001b[39;00m  \u001b[39m# remove potential circular references\u001b[39;00m\n",
      "File \u001b[0;32m~/de/venv/lib/python3.9/site-packages/sqlalchemy/pool/impl.py:167\u001b[0m, in \u001b[0;36mQueuePool._do_get\u001b[0;34m(self)\u001b[0m\n\u001b[1;32m    165\u001b[0m \u001b[39mif\u001b[39;00m \u001b[39mself\u001b[39m\u001b[39m.\u001b[39m_inc_overflow():\n\u001b[1;32m    166\u001b[0m     \u001b[39mtry\u001b[39;00m:\n\u001b[0;32m--> 167\u001b[0m         \u001b[39mreturn\u001b[39;00m \u001b[39mself\u001b[39;49m\u001b[39m.\u001b[39;49m_create_connection()\n\u001b[1;32m    168\u001b[0m     \u001b[39mexcept\u001b[39;00m:\n\u001b[1;32m    169\u001b[0m         \u001b[39mwith\u001b[39;00m util\u001b[39m.\u001b[39msafe_reraise():\n",
      "File \u001b[0;32m~/de/venv/lib/python3.9/site-packages/sqlalchemy/pool/base.py:393\u001b[0m, in \u001b[0;36mPool._create_connection\u001b[0;34m(self)\u001b[0m\n\u001b[1;32m    390\u001b[0m \u001b[39mdef\u001b[39;00m \u001b[39m_create_connection\u001b[39m(\u001b[39mself\u001b[39m) \u001b[39m-\u001b[39m\u001b[39m>\u001b[39m ConnectionPoolEntry:\n\u001b[1;32m    391\u001b[0m \u001b[39m    \u001b[39m\u001b[39m\"\"\"Called by subclasses to create a new ConnectionRecord.\"\"\"\u001b[39;00m\n\u001b[0;32m--> 393\u001b[0m     \u001b[39mreturn\u001b[39;00m _ConnectionRecord(\u001b[39mself\u001b[39;49m)\n",
      "File \u001b[0;32m~/de/venv/lib/python3.9/site-packages/sqlalchemy/pool/base.py:678\u001b[0m, in \u001b[0;36m_ConnectionRecord.__init__\u001b[0;34m(self, pool, connect)\u001b[0m\n\u001b[1;32m    676\u001b[0m \u001b[39mself\u001b[39m\u001b[39m.\u001b[39m__pool \u001b[39m=\u001b[39m pool\n\u001b[1;32m    677\u001b[0m \u001b[39mif\u001b[39;00m connect:\n\u001b[0;32m--> 678\u001b[0m     \u001b[39mself\u001b[39;49m\u001b[39m.\u001b[39;49m__connect()\n\u001b[1;32m    679\u001b[0m \u001b[39mself\u001b[39m\u001b[39m.\u001b[39mfinalize_callback \u001b[39m=\u001b[39m deque()\n",
      "File \u001b[0;32m~/de/venv/lib/python3.9/site-packages/sqlalchemy/pool/base.py:903\u001b[0m, in \u001b[0;36m_ConnectionRecord.__connect\u001b[0;34m(self)\u001b[0m\n\u001b[1;32m    901\u001b[0m \u001b[39mexcept\u001b[39;00m \u001b[39mBaseException\u001b[39;00m \u001b[39mas\u001b[39;00m e:\n\u001b[1;32m    902\u001b[0m     \u001b[39mwith\u001b[39;00m util\u001b[39m.\u001b[39msafe_reraise():\n\u001b[0;32m--> 903\u001b[0m         pool\u001b[39m.\u001b[39mlogger\u001b[39m.\u001b[39mdebug(\u001b[39m\"\u001b[39m\u001b[39mError on connect(): \u001b[39m\u001b[39m%s\u001b[39;00m\u001b[39m\"\u001b[39m, e)\n\u001b[1;32m    904\u001b[0m \u001b[39melse\u001b[39;00m:\n\u001b[1;32m    905\u001b[0m     \u001b[39m# in SQLAlchemy 1.4 the first_connect event is not used by\u001b[39;00m\n\u001b[1;32m    906\u001b[0m     \u001b[39m# the engine, so this will usually not be set\u001b[39;00m\n\u001b[1;32m    907\u001b[0m     \u001b[39mif\u001b[39;00m pool\u001b[39m.\u001b[39mdispatch\u001b[39m.\u001b[39mfirst_connect:\n",
      "File \u001b[0;32m~/de/venv/lib/python3.9/site-packages/sqlalchemy/util/langhelpers.py:147\u001b[0m, in \u001b[0;36msafe_reraise.__exit__\u001b[0;34m(self, type_, value, traceback)\u001b[0m\n\u001b[1;32m    145\u001b[0m     \u001b[39massert\u001b[39;00m exc_value \u001b[39mis\u001b[39;00m \u001b[39mnot\u001b[39;00m \u001b[39mNone\u001b[39;00m\n\u001b[1;32m    146\u001b[0m     \u001b[39mself\u001b[39m\u001b[39m.\u001b[39m_exc_info \u001b[39m=\u001b[39m \u001b[39mNone\u001b[39;00m  \u001b[39m# remove potential circular references\u001b[39;00m\n\u001b[0;32m--> 147\u001b[0m     \u001b[39mraise\u001b[39;00m exc_value\u001b[39m.\u001b[39mwith_traceback(exc_tb)\n\u001b[1;32m    148\u001b[0m \u001b[39melse\u001b[39;00m:\n\u001b[1;32m    149\u001b[0m     \u001b[39mself\u001b[39m\u001b[39m.\u001b[39m_exc_info \u001b[39m=\u001b[39m \u001b[39mNone\u001b[39;00m  \u001b[39m# remove potential circular references\u001b[39;00m\n",
      "File \u001b[0;32m~/de/venv/lib/python3.9/site-packages/sqlalchemy/pool/base.py:898\u001b[0m, in \u001b[0;36m_ConnectionRecord.__connect\u001b[0;34m(self)\u001b[0m\n\u001b[1;32m    896\u001b[0m \u001b[39mtry\u001b[39;00m:\n\u001b[1;32m    897\u001b[0m     \u001b[39mself\u001b[39m\u001b[39m.\u001b[39mstarttime \u001b[39m=\u001b[39m time\u001b[39m.\u001b[39mtime()\n\u001b[0;32m--> 898\u001b[0m     \u001b[39mself\u001b[39m\u001b[39m.\u001b[39mdbapi_connection \u001b[39m=\u001b[39m connection \u001b[39m=\u001b[39m pool\u001b[39m.\u001b[39;49m_invoke_creator(\u001b[39mself\u001b[39;49m)\n\u001b[1;32m    899\u001b[0m     pool\u001b[39m.\u001b[39mlogger\u001b[39m.\u001b[39mdebug(\u001b[39m\"\u001b[39m\u001b[39mCreated new connection \u001b[39m\u001b[39m%r\u001b[39;00m\u001b[39m\"\u001b[39m, connection)\n\u001b[1;32m    900\u001b[0m     \u001b[39mself\u001b[39m\u001b[39m.\u001b[39mfresh \u001b[39m=\u001b[39m \u001b[39mTrue\u001b[39;00m\n",
      "File \u001b[0;32m~/de/venv/lib/python3.9/site-packages/sqlalchemy/engine/create.py:637\u001b[0m, in \u001b[0;36mcreate_engine.<locals>.connect\u001b[0;34m(connection_record)\u001b[0m\n\u001b[1;32m    634\u001b[0m         \u001b[39mif\u001b[39;00m connection \u001b[39mis\u001b[39;00m \u001b[39mnot\u001b[39;00m \u001b[39mNone\u001b[39;00m:\n\u001b[1;32m    635\u001b[0m             \u001b[39mreturn\u001b[39;00m connection\n\u001b[0;32m--> 637\u001b[0m \u001b[39mreturn\u001b[39;00m dialect\u001b[39m.\u001b[39;49mconnect(\u001b[39m*\u001b[39;49mcargs, \u001b[39m*\u001b[39;49m\u001b[39m*\u001b[39;49mcparams)\n",
      "File \u001b[0;32m~/de/venv/lib/python3.9/site-packages/sqlalchemy/engine/default.py:615\u001b[0m, in \u001b[0;36mDefaultDialect.connect\u001b[0;34m(self, *cargs, **cparams)\u001b[0m\n\u001b[1;32m    613\u001b[0m \u001b[39mdef\u001b[39;00m \u001b[39mconnect\u001b[39m(\u001b[39mself\u001b[39m, \u001b[39m*\u001b[39mcargs, \u001b[39m*\u001b[39m\u001b[39m*\u001b[39mcparams):\n\u001b[1;32m    614\u001b[0m     \u001b[39m# inherits the docstring from interfaces.Dialect.connect\u001b[39;00m\n\u001b[0;32m--> 615\u001b[0m     \u001b[39mreturn\u001b[39;00m \u001b[39mself\u001b[39;49m\u001b[39m.\u001b[39;49mloaded_dbapi\u001b[39m.\u001b[39;49mconnect(\u001b[39m*\u001b[39;49mcargs, \u001b[39m*\u001b[39;49m\u001b[39m*\u001b[39;49mcparams)\n",
      "File \u001b[0;32m~/de/venv/lib/python3.9/site-packages/pg8000/__init__.py:111\u001b[0m, in \u001b[0;36mconnect\u001b[0;34m(user, host, database, port, password, source_address, unix_sock, ssl_context, timeout, tcp_keepalive, application_name, replication)\u001b[0m\n\u001b[1;32m     97\u001b[0m \u001b[39mdef\u001b[39;00m \u001b[39mconnect\u001b[39m(\n\u001b[1;32m     98\u001b[0m     user,\n\u001b[1;32m     99\u001b[0m     host\u001b[39m=\u001b[39m\u001b[39m\"\u001b[39m\u001b[39mlocalhost\u001b[39m\u001b[39m\"\u001b[39m,\n\u001b[0;32m   (...)\u001b[0m\n\u001b[1;32m    109\u001b[0m     replication\u001b[39m=\u001b[39m\u001b[39mNone\u001b[39;00m,\n\u001b[1;32m    110\u001b[0m ):\n\u001b[0;32m--> 111\u001b[0m     \u001b[39mreturn\u001b[39;00m Connection(\n\u001b[1;32m    112\u001b[0m         user,\n\u001b[1;32m    113\u001b[0m         host\u001b[39m=\u001b[39;49mhost,\n\u001b[1;32m    114\u001b[0m         database\u001b[39m=\u001b[39;49mdatabase,\n\u001b[1;32m    115\u001b[0m         port\u001b[39m=\u001b[39;49mport,\n\u001b[1;32m    116\u001b[0m         password\u001b[39m=\u001b[39;49mpassword,\n\u001b[1;32m    117\u001b[0m         source_address\u001b[39m=\u001b[39;49msource_address,\n\u001b[1;32m    118\u001b[0m         unix_sock\u001b[39m=\u001b[39;49munix_sock,\n\u001b[1;32m    119\u001b[0m         ssl_context\u001b[39m=\u001b[39;49mssl_context,\n\u001b[1;32m    120\u001b[0m         timeout\u001b[39m=\u001b[39;49mtimeout,\n\u001b[1;32m    121\u001b[0m         tcp_keepalive\u001b[39m=\u001b[39;49mtcp_keepalive,\n\u001b[1;32m    122\u001b[0m         application_name\u001b[39m=\u001b[39;49mapplication_name,\n\u001b[1;32m    123\u001b[0m         replication\u001b[39m=\u001b[39;49mreplication,\n\u001b[1;32m    124\u001b[0m     )\n",
      "File \u001b[0;32m~/de/venv/lib/python3.9/site-packages/pg8000/legacy.py:443\u001b[0m, in \u001b[0;36mConnection.__init__\u001b[0;34m(self, *args, **kwargs)\u001b[0m\n\u001b[1;32m    441\u001b[0m \u001b[39mdef\u001b[39;00m \u001b[39m__init__\u001b[39m(\u001b[39mself\u001b[39m, \u001b[39m*\u001b[39margs, \u001b[39m*\u001b[39m\u001b[39m*\u001b[39mkwargs):\n\u001b[1;32m    442\u001b[0m     \u001b[39mtry\u001b[39;00m:\n\u001b[0;32m--> 443\u001b[0m         \u001b[39msuper\u001b[39;49m()\u001b[39m.\u001b[39;49m\u001b[39m__init__\u001b[39;49m(\u001b[39m*\u001b[39;49margs, \u001b[39m*\u001b[39;49m\u001b[39m*\u001b[39;49mkwargs)\n\u001b[1;32m    444\u001b[0m     \u001b[39mexcept\u001b[39;00m DatabaseError \u001b[39mas\u001b[39;00m e:\n\u001b[1;32m    445\u001b[0m         msg \u001b[39m=\u001b[39m e\u001b[39m.\u001b[39margs[\u001b[39m0\u001b[39m]\n",
      "File \u001b[0;32m~/de/venv/lib/python3.9/site-packages/pg8000/core.py:247\u001b[0m, in \u001b[0;36mCoreConnection.__init__\u001b[0;34m(self, user, host, database, port, password, source_address, unix_sock, ssl_context, timeout, tcp_keepalive, application_name, replication)\u001b[0m\n\u001b[1;32m    243\u001b[0m         \u001b[39mself\u001b[39m\u001b[39m.\u001b[39m_usock \u001b[39m=\u001b[39m socket\u001b[39m.\u001b[39mcreate_connection(\n\u001b[1;32m    244\u001b[0m             (host, port), timeout, source_address\n\u001b[1;32m    245\u001b[0m         )\n\u001b[1;32m    246\u001b[0m     \u001b[39mexcept\u001b[39;00m socket\u001b[39m.\u001b[39merror \u001b[39mas\u001b[39;00m e:\n\u001b[0;32m--> 247\u001b[0m         \u001b[39mraise\u001b[39;00m InterfaceError(\n\u001b[1;32m    248\u001b[0m             \u001b[39mf\u001b[39m\u001b[39m\"\u001b[39m\u001b[39mCan\u001b[39m\u001b[39m'\u001b[39m\u001b[39mt create a connection to host \u001b[39m\u001b[39m{\u001b[39;00mhost\u001b[39m}\u001b[39;00m\u001b[39m and port \u001b[39m\u001b[39m{\u001b[39;00mport\u001b[39m}\u001b[39;00m\u001b[39m \u001b[39m\u001b[39m\"\u001b[39m\n\u001b[1;32m    249\u001b[0m             \u001b[39mf\u001b[39m\u001b[39m\"\u001b[39m\u001b[39m(timeout is \u001b[39m\u001b[39m{\u001b[39;00mtimeout\u001b[39m}\u001b[39;00m\u001b[39m and source_address is \u001b[39m\u001b[39m{\u001b[39;00msource_address\u001b[39m}\u001b[39;00m\u001b[39m).\u001b[39m\u001b[39m\"\u001b[39m\n\u001b[1;32m    250\u001b[0m         ) \u001b[39mfrom\u001b[39;00m \u001b[39me\u001b[39;00m\n\u001b[1;32m    252\u001b[0m \u001b[39melif\u001b[39;00m unix_sock \u001b[39mis\u001b[39;00m \u001b[39mnot\u001b[39;00m \u001b[39mNone\u001b[39;00m:\n\u001b[1;32m    253\u001b[0m     \u001b[39mtry\u001b[39;00m:\n",
      "\u001b[0;31mInterfaceError\u001b[0m: (pg8000.exceptions.InterfaceError) Can't create a connection to host 34.131.22.145 and port 5432 (timeout is None and source_address is None).\n(Background on this error at: https://sqlalche.me/e/20/rvf5)"
     ]
    }
   ],
   "source": [
    "cursor = engine.connect()"
   ]
  },
  {
   "cell_type": "code",
   "execution_count": null,
   "metadata": {},
   "outputs": [],
   "source": []
  }
 ],
 "metadata": {
  "kernelspec": {
   "display_name": "venv",
   "language": "python",
   "name": "python3"
  },
  "language_info": {
   "codemirror_mode": {
    "name": "ipython",
    "version": 3
   },
   "file_extension": ".py",
   "mimetype": "text/x-python",
   "name": "python",
   "nbconvert_exporter": "python",
   "pygments_lexer": "ipython3",
   "version": "3.10.11"
  },
  "orig_nbformat": 4
 },
 "nbformat": 4,
 "nbformat_minor": 2
}
